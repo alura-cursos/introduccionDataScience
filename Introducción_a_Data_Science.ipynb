{
  "nbformat": 4,
  "nbformat_minor": 0,
  "metadata": {
    "colab": {
      "name": "Introducción a Data Science.ipynb",
      "provenance": [],
      "collapsed_sections": []
    },
    "kernelspec": {
      "name": "python3",
      "display_name": "Python 3"
    }
  },
  "cells": [
    {
      "cell_type": "code",
      "metadata": {
        "id": "G1elmNeBd89b",
        "colab_type": "code",
        "colab": {}
      },
      "source": [
        "import pandas as pd\n",
        "notas = pd.read_csv(\"ratings.csv\") \n",
        "#notas = pd.read_csv(\"drive/My Drive/Alura/ratings.csv\")\n",
        "notas.head()"
      ],
      "execution_count": 0,
      "outputs": []
    },
    {
      "cell_type": "code",
      "metadata": {
        "id": "Rfk33E1ugGNY",
        "colab_type": "code",
        "colab": {}
      },
      "source": [
        "notas.shape"
      ],
      "execution_count": 0,
      "outputs": []
    },
    {
      "cell_type": "code",
      "metadata": {
        "id": "VYvBE0bIBDAe",
        "colab_type": "code",
        "colab": {}
      },
      "source": [
        "notas.columns = [\"usuarioId\", \"peliculaId\", \"nota\", \"momento\"]\n",
        "notas.head()"
      ],
      "execution_count": 0,
      "outputs": []
    },
    {
      "cell_type": "code",
      "metadata": {
        "id": "ZBvV0c76CSAK",
        "colab_type": "code",
        "colab": {}
      },
      "source": [
        "notas['nota']"
      ],
      "execution_count": 0,
      "outputs": []
    },
    {
      "cell_type": "code",
      "metadata": {
        "id": "Dz-_GYCiEEkT",
        "colab_type": "code",
        "colab": {}
      },
      "source": [
        "notas['nota'].unique()"
      ],
      "execution_count": 0,
      "outputs": []
    },
    {
      "cell_type": "code",
      "metadata": {
        "id": "E6425Ns1F0bR",
        "colab_type": "code",
        "colab": {}
      },
      "source": [
        "notas['nota'].value_counts()"
      ],
      "execution_count": 0,
      "outputs": []
    },
    {
      "cell_type": "code",
      "metadata": {
        "id": "mz8LYUS3GF-N",
        "colab_type": "code",
        "colab": {}
      },
      "source": [
        "notas['nota'].mean()"
      ],
      "execution_count": 0,
      "outputs": []
    },
    {
      "cell_type": "code",
      "metadata": {
        "id": "3yCjF8wiMd7Q",
        "colab_type": "code",
        "colab": {}
      },
      "source": [
        "notas.nota.head()"
      ],
      "execution_count": 0,
      "outputs": []
    },
    {
      "cell_type": "code",
      "metadata": {
        "id": "ol8ApOIANQw1",
        "colab_type": "code",
        "colab": {}
      },
      "source": [
        "notas.nota.plot()"
      ],
      "execution_count": 0,
      "outputs": []
    },
    {
      "cell_type": "code",
      "metadata": {
        "id": "7OZo8o-gQiHD",
        "colab_type": "code",
        "colab": {}
      },
      "source": [
        "notas.nota.plot(kind='hist')"
      ],
      "execution_count": 0,
      "outputs": []
    },
    {
      "cell_type": "code",
      "metadata": {
        "id": "xc1s-6x1Qt-x",
        "colab_type": "code",
        "colab": {}
      },
      "source": [
        "print(\"Promedio\",notas['nota'].mean())\n",
        "print(\"Mediana\",notas['nota'].median())\n"
      ],
      "execution_count": 0,
      "outputs": []
    },
    {
      "cell_type": "code",
      "metadata": {
        "id": "0rJSCAIpVSzQ",
        "colab_type": "code",
        "colab": {}
      },
      "source": [
        "notas.nota.describe()"
      ],
      "execution_count": 0,
      "outputs": []
    },
    {
      "cell_type": "code",
      "metadata": {
        "id": "ugvOe_tXVgKv",
        "colab_type": "code",
        "colab": {}
      },
      "source": [
        "import seaborn as sns"
      ],
      "execution_count": 0,
      "outputs": []
    },
    {
      "cell_type": "code",
      "metadata": {
        "id": "Qi5MQVQ1VmQe",
        "colab_type": "code",
        "colab": {}
      },
      "source": [
        "sns.boxplot(notas.nota)"
      ],
      "execution_count": 0,
      "outputs": []
    }
  ]
}