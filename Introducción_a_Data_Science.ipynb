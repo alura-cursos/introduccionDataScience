{
  "nbformat": 4,
  "nbformat_minor": 0,
  "metadata": {
    "colab": {
      "name": "Introducción a Data Science.ipynb",
      "provenance": [],
      "collapsed_sections": []
    },
    "kernelspec": {
      "name": "python3",
      "display_name": "Python 3"
    }
  },
  "cells": [
    {
      "cell_type": "code",
      "metadata": {
        "id": "G1elmNeBd89b",
        "colab_type": "code",
        "colab": {}
      },
      "source": [
        "import pandas as pd\n",
        "notas = pd.read_csv(\"ratings.csv\") \n",
        "#notas = pd.read_csv(\"drive/My Drive/Alura/ratings.csv\")\n",
        "notas.head()"
      ],
      "execution_count": 0,
      "outputs": []
    },
    {
      "cell_type": "code",
      "metadata": {
        "id": "Rfk33E1ugGNY",
        "colab_type": "code",
        "colab": {}
      },
      "source": [
        "notas.shape"
      ],
      "execution_count": 0,
      "outputs": []
    },
    {
      "cell_type": "code",
      "metadata": {
        "id": "VYvBE0bIBDAe",
        "colab_type": "code",
        "colab": {}
      },
      "source": [
        "notas.columns = [\"usuarioId\", \"peliculaId\", \"nota\", \"momento\"]\n",
        "notas.head()"
      ],
      "execution_count": 0,
      "outputs": []
    },
    {
      "cell_type": "code",
      "metadata": {
        "id": "ZBvV0c76CSAK",
        "colab_type": "code",
        "colab": {}
      },
      "source": [
        "notas['nota']"
      ],
      "execution_count": 0,
      "outputs": []
    },
    {
      "cell_type": "code",
      "metadata": {
        "id": "Dz-_GYCiEEkT",
        "colab_type": "code",
        "colab": {}
      },
      "source": [
        "notas['nota'].unique()"
      ],
      "execution_count": 0,
      "outputs": []
    },
    {
      "cell_type": "code",
      "metadata": {
        "id": "E6425Ns1F0bR",
        "colab_type": "code",
        "colab": {}
      },
      "source": [
        "notas['nota'].value_counts()"
      ],
      "execution_count": 0,
      "outputs": []
    },
    {
      "cell_type": "code",
      "metadata": {
        "id": "mz8LYUS3GF-N",
        "colab_type": "code",
        "colab": {}
      },
      "source": [
        "notas['nota'].mean()"
      ],
      "execution_count": 0,
      "outputs": []
    },
    {
      "cell_type": "code",
      "metadata": {
        "id": "3yCjF8wiMd7Q",
        "colab_type": "code",
        "colab": {}
      },
      "source": [
        "notas.nota.head()"
      ],
      "execution_count": 0,
      "outputs": []
    },
    {
      "cell_type": "code",
      "metadata": {
        "id": "ol8ApOIANQw1",
        "colab_type": "code",
        "colab": {}
      },
      "source": [
        "notas.nota.plot()"
      ],
      "execution_count": 0,
      "outputs": []
    },
    {
      "cell_type": "code",
      "metadata": {
        "id": "7OZo8o-gQiHD",
        "colab_type": "code",
        "colab": {}
      },
      "source": [
        "notas.nota.plot(kind='hist')"
      ],
      "execution_count": 0,
      "outputs": []
    },
    {
      "cell_type": "code",
      "metadata": {
        "id": "xc1s-6x1Qt-x",
        "colab_type": "code",
        "colab": {}
      },
      "source": [
        "print(\"Promedio\",notas['nota'].mean())\n",
        "print(\"Mediana\",notas['nota'].median())\n"
      ],
      "execution_count": 0,
      "outputs": []
    },
    {
      "cell_type": "code",
      "metadata": {
        "id": "0rJSCAIpVSzQ",
        "colab_type": "code",
        "colab": {}
      },
      "source": [
        "notas.nota.describe()"
      ],
      "execution_count": 0,
      "outputs": []
    },
    {
      "cell_type": "code",
      "metadata": {
        "id": "ugvOe_tXVgKv",
        "colab_type": "code",
        "colab": {}
      },
      "source": [
        "import seaborn as sns"
      ],
      "execution_count": 0,
      "outputs": []
    },
    {
      "cell_type": "code",
      "metadata": {
        "id": "Qi5MQVQ1VmQe",
        "colab_type": "code",
        "colab": {}
      },
      "source": [
        "sns.boxplot(notas.nota)"
      ],
      "execution_count": 0,
      "outputs": []
    },
    {
      "cell_type": "markdown",
      "metadata": {
        "colab_type": "text",
        "id": "L-0Q3Iz5Bpa6"
      },
      "source": [
        "#Analizando las películas"
      ]
    },
    {
      "cell_type": "code",
      "metadata": {
        "colab_type": "code",
        "id": "XP0iuS7RBpa4",
        "colab": {}
      },
      "source": [
        "peliculas = pd.read_csv(\"movies.csv\") \n",
        "peliculas.head()"
      ],
      "execution_count": 0,
      "outputs": []
    },
    {
      "cell_type": "markdown",
      "metadata": {
        "id": "WRzDHmSWYEl2",
        "colab_type": "text"
      },
      "source": [
        "#Analizando notas de películas específicas"
      ]
    },
    {
      "cell_type": "code",
      "metadata": {
        "colab_type": "code",
        "id": "9wuOC9EMBpa1",
        "colab": {}
      },
      "source": [
        "peliculas.columns = [\"peliculaId\", \"titulo\", \"generos\"]"
      ],
      "execution_count": 0,
      "outputs": []
    },
    {
      "cell_type": "code",
      "metadata": {
        "colab_type": "code",
        "id": "t9-WYCOgBpaz",
        "colab": {}
      },
      "source": [
        "notas.query(\"peliculaId==1\")"
      ],
      "execution_count": 0,
      "outputs": []
    },
    {
      "cell_type": "code",
      "metadata": {
        "colab_type": "code",
        "id": "rkC1xncQBpax",
        "colab": {}
      },
      "source": [
        "notas.query(\"peliculaId==1\").nota"
      ],
      "execution_count": 0,
      "outputs": []
    },
    {
      "cell_type": "code",
      "metadata": {
        "colab_type": "code",
        "id": "pmhJb6AJBpav",
        "colab": {}
      },
      "source": [
        "notas.query(\"peliculaId==1\").nota.mean()"
      ],
      "execution_count": 0,
      "outputs": []
    },
    {
      "cell_type": "code",
      "metadata": {
        "colab_type": "code",
        "id": "4r-YuA1mBpas",
        "colab": {}
      },
      "source": [
        "notas.query(\"peliculaId==2\").nota.mean()"
      ],
      "execution_count": 0,
      "outputs": []
    },
    {
      "cell_type": "markdown",
      "metadata": {
        "id": "WxVdaO70wA6o",
        "colab_type": "text"
      },
      "source": [
        "# Promedio de las notas de las peliculas"
      ]
    },
    {
      "cell_type": "code",
      "metadata": {
        "colab_type": "code",
        "id": "cVfR_ElLBpap",
        "colab": {}
      },
      "source": [
        "notas.groupby(\"peliculaId\").mean()[\"nota\"]"
      ],
      "execution_count": 0,
      "outputs": []
    },
    {
      "cell_type": "code",
      "metadata": {
        "colab_type": "code",
        "id": "gziuGNYdBpan",
        "colab": {}
      },
      "source": [
        "promedios_por_pelicula = notas.groupby(\"peliculaId\").mean().nota\n",
        "promedios_por_pelicula.head()"
      ],
      "execution_count": 0,
      "outputs": []
    },
    {
      "cell_type": "code",
      "metadata": {
        "colab_type": "code",
        "id": "2XuQ4A_lBpaj",
        "colab": {}
      },
      "source": [
        "promedios_por_pelicula.plot(kind = \"hist\")"
      ],
      "execution_count": 0,
      "outputs": []
    },
    {
      "cell_type": "code",
      "metadata": {
        "colab_type": "code",
        "id": "AZ1mzEeABpaf",
        "colab": {}
      },
      "source": [
        "sns.boxplot(promedios_por_pelicula)"
      ],
      "execution_count": 0,
      "outputs": []
    },
    {
      "cell_type": "code",
      "metadata": {
        "colab_type": "code",
        "id": "EHgU0XB6Bpad",
        "colab": {}
      },
      "source": [
        "promedios_por_pelicula.describe()"
      ],
      "execution_count": 0,
      "outputs": []
    },
    {
      "cell_type": "code",
      "metadata": {
        "colab_type": "code",
        "id": "Y24VL9GlBpaZ",
        "colab": {}
      },
      "source": [
        "sns.distplot(promedios_por_pelicula, bins = 10)"
      ],
      "execution_count": 0,
      "outputs": []
    },
    {
      "cell_type": "code",
      "metadata": {
        "colab_type": "code",
        "id": "ZT4EN8kzBpaS",
        "colab": {}
      },
      "source": [
        "import matplotlib.pyplot as plt\n",
        "plt.hist(promedios_por_pelicula)\n",
        "plt.title(\"Histograma de los promedios de las películas\") "
      ],
      "execution_count": 0,
      "outputs": []
    },
    {
      "cell_type": "code",
      "metadata": {
        "colab_type": "code",
        "id": "ZFwjN-5eBpaP",
        "colab": {}
      },
      "source": [
        "sns.boxplot(y=promedios_por_pelicula)"
      ],
      "execution_count": 0,
      "outputs": []
    },
    {
      "cell_type": "code",
      "metadata": {
        "colab_type": "code",
        "id": "w0NlLP4JBpaL",
        "colab": {}
      },
      "source": [
        "plt.figure(figsize=(5,8))"
      ],
      "execution_count": 0,
      "outputs": []
    },
    {
      "cell_type": "code",
      "metadata": {
        "colab_type": "code",
        "id": "jTITnixDBpaF",
        "colab": {}
      },
      "source": [
        "plt.figure(figsize=(5,8))\n",
        "sns.boxplot(y=promedios_por_pelicula)"
      ],
      "execution_count": 0,
      "outputs": []
    },
    {
      "cell_type": "code",
      "metadata": {
        "id": "-NpQR3bJbfUZ",
        "colab_type": "code",
        "colab": {}
      },
      "source": [
        "import pandas as pd\n",
        "tmdb = pd.read_csv(\"tmdb_5000_movies.csv\")\n",
        "tmdb.head()"
      ],
      "execution_count": 0,
      "outputs": []
    },
    {
      "cell_type": "code",
      "metadata": {
        "id": "xRSuFIJJcHte",
        "colab_type": "code",
        "colab": {}
      },
      "source": [
        "tmdb.original_language"
      ],
      "execution_count": 0,
      "outputs": []
    },
    {
      "cell_type": "code",
      "metadata": {
        "id": "Qs5L3TkxcR8G",
        "colab_type": "code",
        "colab": {}
      },
      "source": [
        "tmdb.original_language.unique()"
      ],
      "execution_count": 0,
      "outputs": []
    },
    {
      "cell_type": "code",
      "metadata": {
        "id": "iCgKlyCOcWwZ",
        "colab_type": "code",
        "colab": {}
      },
      "source": [
        "#Categorico ordinal\n",
        "\n",
        "#primaria \n",
        "#secundaria\n",
        "#universidad\n",
        "\n",
        "#primaria >> #secundria >> #universidad"
      ],
      "execution_count": 0,
      "outputs": []
    },
    {
      "cell_type": "code",
      "metadata": {
        "id": "QFdISXKlc-v8",
        "colab_type": "code",
        "colab": {}
      },
      "source": [
        "#budget --> cuantitaiva continua"
      ],
      "execution_count": 0,
      "outputs": []
    },
    {
      "cell_type": "code",
      "metadata": {
        "id": "s_BgYWkNdIHI",
        "colab_type": "code",
        "colab": {}
      },
      "source": [
        "#numero de votos  --> cuantitativa de intervalo\n",
        "\n",
        "#3,5 votos \n",
        "\n",
        "#1 2 3 -> 1 \n",
        "\n",
        "\n",
        "#Notas  0,5 5, 0,5 2,7 --> cuantitiva por intervalo #Notas  0,5 5, 0,5 2,7 --> cuantitiva por intervalo "
      ],
      "execution_count": 0,
      "outputs": []
    }
  ]
}