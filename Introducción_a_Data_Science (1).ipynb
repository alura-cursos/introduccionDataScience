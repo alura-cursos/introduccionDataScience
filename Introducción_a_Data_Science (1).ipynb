{
  "nbformat": 4,
  "nbformat_minor": 0,
  "metadata": {
    "colab": {
      "name": "Introducción a Data Science.ipynb",
      "provenance": [],
      "collapsed_sections": []
    },
    "kernelspec": {
      "name": "python3",
      "display_name": "Python 3"
    }
  },
  "cells": [
    {
      "cell_type": "code",
      "metadata": {
        "id": "G1elmNeBd89b",
        "colab_type": "code",
        "colab": {}
      },
      "source": [
        "import pandas as pd\n",
        "notas = pd.read_csv(\"ratings.csv\") \n",
        "#notas = pd.read_csv(\"drive/My Drive/Alura/ratings.csv\")\n",
        "notas.head()"
      ],
      "execution_count": 0,
      "outputs": []
    },
    {
      "cell_type": "code",
      "metadata": {
        "id": "Rfk33E1ugGNY",
        "colab_type": "code",
        "colab": {}
      },
      "source": [
        "notas.shape"
      ],
      "execution_count": 0,
      "outputs": []
    },
    {
      "cell_type": "code",
      "metadata": {
        "id": "VYvBE0bIBDAe",
        "colab_type": "code",
        "colab": {}
      },
      "source": [
        "notas.columns = [\"usuarioId\", \"peliculaId\", \"nota\", \"momento\"]\n",
        "notas.head()"
      ],
      "execution_count": 0,
      "outputs": []
    },
    {
      "cell_type": "code",
      "metadata": {
        "id": "ZBvV0c76CSAK",
        "colab_type": "code",
        "colab": {}
      },
      "source": [
        "notas['nota']"
      ],
      "execution_count": 0,
      "outputs": []
    },
    {
      "cell_type": "code",
      "metadata": {
        "id": "Dz-_GYCiEEkT",
        "colab_type": "code",
        "colab": {}
      },
      "source": [
        "notas['nota'].unique()"
      ],
      "execution_count": 0,
      "outputs": []
    },
    {
      "cell_type": "code",
      "metadata": {
        "id": "E6425Ns1F0bR",
        "colab_type": "code",
        "colab": {}
      },
      "source": [
        "notas['nota'].value_counts()"
      ],
      "execution_count": 0,
      "outputs": []
    },
    {
      "cell_type": "code",
      "metadata": {
        "id": "mz8LYUS3GF-N",
        "colab_type": "code",
        "colab": {}
      },
      "source": [
        "notas['nota'].mean()"
      ],
      "execution_count": 0,
      "outputs": []
    },
    {
      "cell_type": "code",
      "metadata": {
        "id": "3yCjF8wiMd7Q",
        "colab_type": "code",
        "colab": {}
      },
      "source": [
        "notas.nota.head()"
      ],
      "execution_count": 0,
      "outputs": []
    },
    {
      "cell_type": "code",
      "metadata": {
        "id": "ol8ApOIANQw1",
        "colab_type": "code",
        "colab": {}
      },
      "source": [
        "notas.nota.plot()"
      ],
      "execution_count": 0,
      "outputs": []
    },
    {
      "cell_type": "code",
      "metadata": {
        "id": "7OZo8o-gQiHD",
        "colab_type": "code",
        "colab": {}
      },
      "source": [
        "notas.nota.plot(kind='hist')"
      ],
      "execution_count": 0,
      "outputs": []
    },
    {
      "cell_type": "code",
      "metadata": {
        "id": "xc1s-6x1Qt-x",
        "colab_type": "code",
        "colab": {}
      },
      "source": [
        "print(\"Promedio\",notas['nota'].mean())\n",
        "print(\"Mediana\",notas['nota'].median())\n"
      ],
      "execution_count": 0,
      "outputs": []
    },
    {
      "cell_type": "code",
      "metadata": {
        "id": "0rJSCAIpVSzQ",
        "colab_type": "code",
        "colab": {}
      },
      "source": [
        "notas.nota.describe()"
      ],
      "execution_count": 0,
      "outputs": []
    },
    {
      "cell_type": "code",
      "metadata": {
        "id": "ugvOe_tXVgKv",
        "colab_type": "code",
        "colab": {}
      },
      "source": [
        "import seaborn as sns"
      ],
      "execution_count": 0,
      "outputs": []
    },
    {
      "cell_type": "code",
      "metadata": {
        "id": "Qi5MQVQ1VmQe",
        "colab_type": "code",
        "colab": {}
      },
      "source": [
        "sns.boxplot(notas.nota)"
      ],
      "execution_count": 0,
      "outputs": []
    },
    {
      "cell_type": "markdown",
      "metadata": {
        "colab_type": "text",
        "id": "L-0Q3Iz5Bpa6"
      },
      "source": [
        "#Analizando las películas"
      ]
    },
    {
      "cell_type": "code",
      "metadata": {
        "colab_type": "code",
        "id": "XP0iuS7RBpa4",
        "colab": {}
      },
      "source": [
        "peliculas = pd.read_csv(\"movies.csv\") \n",
        "peliculas.head()"
      ],
      "execution_count": 0,
      "outputs": []
    },
    {
      "cell_type": "markdown",
      "metadata": {
        "id": "WRzDHmSWYEl2",
        "colab_type": "text"
      },
      "source": [
        "#Analizando notas de películas específicas"
      ]
    },
    {
      "cell_type": "code",
      "metadata": {
        "colab_type": "code",
        "id": "9wuOC9EMBpa1",
        "colab": {}
      },
      "source": [
        "peliculas.columns = [\"peliculaId\", \"titulo\", \"generos\"]"
      ],
      "execution_count": 0,
      "outputs": []
    },
    {
      "cell_type": "code",
      "metadata": {
        "colab_type": "code",
        "id": "t9-WYCOgBpaz",
        "colab": {}
      },
      "source": [
        "notas.query(\"peliculaId==1\")"
      ],
      "execution_count": 0,
      "outputs": []
    },
    {
      "cell_type": "code",
      "metadata": {
        "colab_type": "code",
        "id": "rkC1xncQBpax",
        "colab": {}
      },
      "source": [
        "notas.query(\"peliculaId==1\").nota"
      ],
      "execution_count": 0,
      "outputs": []
    },
    {
      "cell_type": "code",
      "metadata": {
        "colab_type": "code",
        "id": "pmhJb6AJBpav",
        "colab": {}
      },
      "source": [
        "notas.query(\"peliculaId==1\").nota.mean()"
      ],
      "execution_count": 0,
      "outputs": []
    },
    {
      "cell_type": "code",
      "metadata": {
        "colab_type": "code",
        "id": "4r-YuA1mBpas",
        "colab": {}
      },
      "source": [
        "notas.query(\"peliculaId==2\").nota.mean()"
      ],
      "execution_count": 0,
      "outputs": []
    },
    {
      "cell_type": "markdown",
      "metadata": {
        "id": "WxVdaO70wA6o",
        "colab_type": "text"
      },
      "source": [
        "# Promedio de las notas de las peliculas"
      ]
    },
    {
      "cell_type": "code",
      "metadata": {
        "colab_type": "code",
        "id": "cVfR_ElLBpap",
        "colab": {}
      },
      "source": [
        "notas.groupby(\"peliculaId\").mean()[\"nota\"]"
      ],
      "execution_count": 0,
      "outputs": []
    },
    {
      "cell_type": "code",
      "metadata": {
        "colab_type": "code",
        "id": "gziuGNYdBpan",
        "colab": {}
      },
      "source": [
        "promedios_por_pelicula = notas.groupby(\"peliculaId\").mean().nota\n",
        "promedios_por_pelicula.head()"
      ],
      "execution_count": 0,
      "outputs": []
    },
    {
      "cell_type": "code",
      "metadata": {
        "colab_type": "code",
        "id": "2XuQ4A_lBpaj",
        "colab": {}
      },
      "source": [
        "promedios_por_pelicula.plot(kind = \"hist\")"
      ],
      "execution_count": 0,
      "outputs": []
    },
    {
      "cell_type": "code",
      "metadata": {
        "colab_type": "code",
        "id": "AZ1mzEeABpaf",
        "colab": {}
      },
      "source": [
        "sns.boxplot(promedios_por_pelicula)"
      ],
      "execution_count": 0,
      "outputs": []
    },
    {
      "cell_type": "code",
      "metadata": {
        "colab_type": "code",
        "id": "EHgU0XB6Bpad",
        "colab": {}
      },
      "source": [
        "promedios_por_pelicula.describe()"
      ],
      "execution_count": 0,
      "outputs": []
    },
    {
      "cell_type": "code",
      "metadata": {
        "colab_type": "code",
        "id": "Y24VL9GlBpaZ",
        "colab": {}
      },
      "source": [
        "sns.distplot(promedios_por_pelicula, bins = 10)"
      ],
      "execution_count": 0,
      "outputs": []
    },
    {
      "cell_type": "code",
      "metadata": {
        "colab_type": "code",
        "id": "ZT4EN8kzBpaS",
        "colab": {}
      },
      "source": [
        "import matplotlib.pyplot as plt\n",
        "plt.hist(promedios_por_pelicula)\n",
        "plt.title(\"Histograma de los promedios de las películas\") "
      ],
      "execution_count": 0,
      "outputs": []
    },
    {
      "cell_type": "code",
      "metadata": {
        "colab_type": "code",
        "id": "ZFwjN-5eBpaP",
        "colab": {}
      },
      "source": [
        "sns.boxplot(y=promedios_por_pelicula)"
      ],
      "execution_count": 0,
      "outputs": []
    },
    {
      "cell_type": "code",
      "metadata": {
        "colab_type": "code",
        "id": "w0NlLP4JBpaL",
        "colab": {}
      },
      "source": [
        "plt.figure(figsize=(5,8))"
      ],
      "execution_count": 0,
      "outputs": []
    },
    {
      "cell_type": "code",
      "metadata": {
        "colab_type": "code",
        "id": "jTITnixDBpaF",
        "colab": {}
      },
      "source": [
        "plt.figure(figsize=(5,8))\n",
        "sns.boxplot(y=promedios_por_pelicula)"
      ],
      "execution_count": 0,
      "outputs": []
    },
    {
      "cell_type": "code",
      "metadata": {
        "id": "-NpQR3bJbfUZ",
        "colab_type": "code",
        "colab": {}
      },
      "source": [
        "import pandas as pd\n",
        "tmdb = pd.read_csv(\"tmdb_5000_movies.csv\")\n",
        "tmdb.head()"
      ],
      "execution_count": 0,
      "outputs": []
    },
    {
      "cell_type": "code",
      "metadata": {
        "id": "xRSuFIJJcHte",
        "colab_type": "code",
        "colab": {}
      },
      "source": [
        "tmdb.original_language"
      ],
      "execution_count": 0,
      "outputs": []
    },
    {
      "cell_type": "code",
      "metadata": {
        "id": "Qs5L3TkxcR8G",
        "colab_type": "code",
        "colab": {}
      },
      "source": [
        "tmdb.original_language.unique()"
      ],
      "execution_count": 0,
      "outputs": []
    },
    {
      "cell_type": "code",
      "metadata": {
        "id": "iCgKlyCOcWwZ",
        "colab_type": "code",
        "colab": {}
      },
      "source": [
        "#Categorico ordinal\n",
        "\n",
        "#primaria \n",
        "#secundaria\n",
        "#universidad\n",
        "\n",
        "#primaria >> #secundria >> #universidad"
      ],
      "execution_count": 0,
      "outputs": []
    },
    {
      "cell_type": "code",
      "metadata": {
        "id": "QFdISXKlc-v8",
        "colab_type": "code",
        "colab": {}
      },
      "source": [
        "#budget --> cuantitaiva continua"
      ],
      "execution_count": 0,
      "outputs": []
    },
    {
      "cell_type": "code",
      "metadata": {
        "id": "s_BgYWkNdIHI",
        "colab_type": "code",
        "colab": {}
      },
      "source": [
        "#numero de votos  --> cuantitativa de intervalo\n",
        "\n",
        "#3,5 votos \n",
        "\n",
        "#1 2 3 -> 1 \n",
        "\n",
        "\n",
        "#Notas  0,5 5, 0,5 2,7 --> cuantitiva por intervalo #Notas  0,5 5, 0,5 2,7 --> cuantitiva por intervalo "
      ],
      "execution_count": 0,
      "outputs": []
    },
    {
      "cell_type": "code",
      "metadata": {
        "id": "afl4pdJujW1R",
        "colab_type": "code",
        "colab": {}
      },
      "source": [
        "tmdb.original_language.value_counts()"
      ],
      "execution_count": 0,
      "outputs": []
    },
    {
      "cell_type": "code",
      "metadata": {
        "id": "77X6VvBEjmvz",
        "colab_type": "code",
        "colab": {}
      },
      "source": [
        "tmdb.original_language.value_counts().to_frame().reset_index()"
      ],
      "execution_count": 0,
      "outputs": []
    },
    {
      "cell_type": "code",
      "metadata": {
        "id": "bMLVZ1-Uj2Kr",
        "colab_type": "code",
        "colab": {}
      },
      "source": [
        "contador_idiomas = tmdb.original_language.value_counts().to_frame().reset_index()\n",
        "contador_idiomas.columns = [\"idioma_original\",\"total\"]\n",
        "contador_idiomas.head()\n"
      ],
      "execution_count": 0,
      "outputs": []
    },
    {
      "cell_type": "code",
      "metadata": {
        "id": "RYvqJeOJkhQy",
        "colab_type": "code",
        "colab": {}
      },
      "source": [
        "sns.barplot(x=\"idioma_original\",y=\"total\",data = contador_idiomas)"
      ],
      "execution_count": 0,
      "outputs": []
    },
    {
      "cell_type": "code",
      "metadata": {
        "id": "ylmMYwqMlaCA",
        "colab_type": "code",
        "colab": {}
      },
      "source": [
        "sns.catplot(x=\"original_language\",kind = \"count\", data = tmdb)"
      ],
      "execution_count": 0,
      "outputs": []
    },
    {
      "cell_type": "code",
      "metadata": {
        "id": "52BnwSoECxfC",
        "colab_type": "code",
        "colab": {}
      },
      "source": [
        "import matplotlib.pyplot as plt"
      ],
      "execution_count": 0,
      "outputs": []
    },
    {
      "cell_type": "code",
      "metadata": {
        "id": "x5OOhkMhD5di",
        "colab_type": "code",
        "colab": {}
      },
      "source": [
        "plt.pie(contador_idiomas.total,labels = contador_idiomas.idioma_original)"
      ],
      "execution_count": 0,
      "outputs": []
    },
    {
      "cell_type": "code",
      "metadata": {
        "id": "IXkVxOZvER2n",
        "colab_type": "code",
        "colab": {}
      },
      "source": [
        "total_por_idioma = tmdb.original_language.value_counts()\n",
        "total_general = total_por_idioma.sum()\n",
        "total_ingles = total_por_idioma.loc[\"en\"]\n",
        "total_diferencia = total_general - total_ingles\n",
        "print(total_general,total_ingles, total_diferencia)"
      ],
      "execution_count": 0,
      "outputs": []
    },
    {
      "cell_type": "code",
      "metadata": {
        "id": "TGgp5raqFda4",
        "colab_type": "code",
        "colab": {}
      },
      "source": [
        "datos = {\n",
        "    'idioma':['ingles','otros'],\n",
        "    'total' :[total_ingles,total_diferencia]\n",
        "}"
      ],
      "execution_count": 0,
      "outputs": []
    },
    {
      "cell_type": "code",
      "metadata": {
        "id": "0TpDQQ1wFz5w",
        "colab_type": "code",
        "colab": {}
      },
      "source": [
        "datos"
      ],
      "execution_count": 0,
      "outputs": []
    },
    {
      "cell_type": "code",
      "metadata": {
        "id": "A4M2W5y0F1DZ",
        "colab_type": "code",
        "colab": {}
      },
      "source": [
        "datos = pd.DataFrame(datos)\n",
        "datos"
      ],
      "execution_count": 0,
      "outputs": []
    },
    {
      "cell_type": "code",
      "metadata": {
        "id": "9Jb09VQNF9Hx",
        "colab_type": "code",
        "colab": {}
      },
      "source": [
        "sns.barplot(x=\"idioma\",y=\"total\",data=datos)"
      ],
      "execution_count": 0,
      "outputs": []
    },
    {
      "cell_type": "code",
      "metadata": {
        "id": "tfjBFfBtKZST",
        "colab_type": "code",
        "colab": {}
      },
      "source": [
        "tmdb.query(\"original_language != 'en'\").original_language.value_counts()"
      ],
      "execution_count": 0,
      "outputs": []
    },
    {
      "cell_type": "code",
      "metadata": {
        "id": "2M1L-StvKs9M",
        "colab_type": "code",
        "colab": {}
      },
      "source": [
        "peliculas_sin_idioma_ingles = tmdb.query(\"original_language != 'en'\")"
      ],
      "execution_count": 0,
      "outputs": []
    },
    {
      "cell_type": "code",
      "metadata": {
        "id": "lYIeFuKxLVC1",
        "colab_type": "code",
        "colab": {}
      },
      "source": [
        "sns.catplot(x=\"original_language\", kind = \"count\", data = peliculas_sin_idioma_ingles)"
      ],
      "execution_count": 0,
      "outputs": []
    },
    {
      "cell_type": "code",
      "metadata": {
        "id": "4bEz70UkQKBP",
        "colab_type": "code",
        "colab": {}
      },
      "source": [
        "plt.figure(figsize=(5,16))\n",
        "sns.catplot(x=\"original_language\", kind = \"count\", data = peliculas_sin_idioma_ingles)"
      ],
      "execution_count": 0,
      "outputs": []
    },
    {
      "cell_type": "code",
      "metadata": {
        "id": "FotHYLmrQNXG",
        "colab_type": "code",
        "colab": {}
      },
      "source": [
        "sns.catplot(x=\"original_language\", kind = \"count\", \n",
        "            data = peliculas_sin_idioma_ingles,\n",
        "              aspect = 2)"
      ],
      "execution_count": 0,
      "outputs": []
    },
    {
      "cell_type": "code",
      "metadata": {
        "id": "Di0QEW9tQ5Kd",
        "colab_type": "code",
        "colab": {}
      },
      "source": [
        "total_idiomas_otras_peliculas = tmdb.query(\"original_language != 'en'\").original_language.value_counts()\n",
        "\n",
        "sns.catplot(x=\"original_language\", kind = \"count\", \n",
        "            data = peliculas_sin_idioma_ingles,\n",
        "              aspect = 2,\n",
        "                order = total_idiomas_otras_peliculas.index)"
      ],
      "execution_count": 0,
      "outputs": []
    },
    {
      "cell_type": "code",
      "metadata": {
        "id": "-_EidnWQRlo_",
        "colab_type": "code",
        "colab": {}
      },
      "source": [
        "sns.catplot(x=\"original_language\", kind = \"count\", \n",
        "            data = peliculas_sin_idioma_ingles,\n",
        "              aspect = 2,\n",
        "                order = total_idiomas_otras_peliculas.index,\n",
        "                  palette = \"GnBu_d\")"
      ],
      "execution_count": 0,
      "outputs": []
    },
    {
      "cell_type": "markdown",
      "metadata": {
        "id": "41zKSrZYSd6T",
        "colab_type": "text"
      },
      "source": [
        "1) inglés es el más predominante\n",
        "2) ditribución de los otros idiomas "
      ]
    },
    {
      "cell_type": "code",
      "metadata": {
        "id": "bpvuJIhQLqLi",
        "colab_type": "code",
        "colab": {}
      },
      "source": [
        "peliculas.head(2)"
      ],
      "execution_count": 0,
      "outputs": []
    },
    {
      "cell_type": "code",
      "metadata": {
        "id": "4tmM6rpMLwHI",
        "colab_type": "code",
        "colab": {}
      },
      "source": [
        "notas_toy_story = notas.query(\"peliculaId==1\")\n",
        "notas_jumanji = notas.query(\"peliculaId==2\")\n",
        "print(len(notas_toy_story),len(notas_jumanji))"
      ],
      "execution_count": 0,
      "outputs": []
    },
    {
      "cell_type": "code",
      "metadata": {
        "id": "dgTi4yKAMdlT",
        "colab_type": "code",
        "colab": {}
      },
      "source": [
        "print(\"El promedio de Toy Story %.2f\" % notas_toy_story.nota.mean())\n",
        "print(\"El promedio de Jumanji %.2f\" % notas_jumanji.nota.mean())\n"
      ],
      "execution_count": 0,
      "outputs": []
    },
    {
      "cell_type": "code",
      "metadata": {
        "id": "WaA2QgycNPxG",
        "colab_type": "code",
        "colab": {}
      },
      "source": [
        "print(\"El promedio de Toy Story %.2f\" % notas_toy_story.nota.median())\n",
        "print(\"El promedio de Jumanji %.2f\" % notas_jumanji.nota.median())"
      ],
      "execution_count": 0,
      "outputs": []
    },
    {
      "cell_type": "code",
      "metadata": {
        "id": "B2Du0sEuN1g9",
        "colab_type": "code",
        "colab": {}
      },
      "source": [
        "import numpy as np\n",
        "pelicula1 = np.append(np.array([2.5]*10),np.array([3.5]*10))\n",
        "pelicula2 = np.append(np.array([1]*10),np.array([5]*10))"
      ],
      "execution_count": 0,
      "outputs": []
    },
    {
      "cell_type": "code",
      "metadata": {
        "id": "PieQLpl_OJ3r",
        "colab_type": "code",
        "colab": {}
      },
      "source": [
        "print(pelicula1.mean(),pelicula2.mean())"
      ],
      "execution_count": 0,
      "outputs": []
    },
    {
      "cell_type": "code",
      "metadata": {
        "id": "Ag4PPeIEOrdG",
        "colab_type": "code",
        "colab": {}
      },
      "source": [
        "print(np.median(pelicula1),np.median(pelicula2))"
      ],
      "execution_count": 0,
      "outputs": []
    },
    {
      "cell_type": "code",
      "metadata": {
        "id": "d8Blbzh_O6RA",
        "colab_type": "code",
        "colab": {}
      },
      "source": [
        "sns.distplot(pelicula1)\n",
        "sns.distplot(pelicula2)\n"
      ],
      "execution_count": 0,
      "outputs": []
    },
    {
      "cell_type": "code",
      "metadata": {
        "id": "NV024k4vPMkC",
        "colab_type": "code",
        "colab": {}
      },
      "source": [
        "plt.hist(pelicula1)\n",
        "plt.hist(pelicula2)\n"
      ],
      "execution_count": 0,
      "outputs": []
    },
    {
      "cell_type": "code",
      "metadata": {
        "id": "cOJ9BEEPPcaT",
        "colab_type": "code",
        "colab": {}
      },
      "source": [
        "plt.boxplot([pelicula1, pelicula2])"
      ],
      "execution_count": 0,
      "outputs": []
    },
    {
      "cell_type": "code",
      "metadata": {
        "id": "wlLn9zHdYeDn",
        "colab_type": "code",
        "colab": {}
      },
      "source": [
        "plt.boxplot([notas_toy_story.nota, notas_jumanji.nota])"
      ],
      "execution_count": 0,
      "outputs": []
    },
    {
      "cell_type": "code",
      "metadata": {
        "id": "SyQ9iDsSYmIj",
        "colab_type": "code",
        "colab": {}
      },
      "source": [
        "sns.boxplot(x = \"peliculaId\", y = \"nota\", \n",
        "            data = notas.query(\"peliculaId in (1,2)\"))"
      ],
      "execution_count": 0,
      "outputs": []
    },
    {
      "cell_type": "code",
      "metadata": {
        "id": "2EeWGg6OZHSC",
        "colab_type": "code",
        "colab": {}
      },
      "source": [
        "sns.boxplot(x = \"peliculaId\", y = \"nota\", \n",
        "            data = notas.query(\"peliculaId in (1,2,3,4,5)\"))"
      ],
      "execution_count": 0,
      "outputs": []
    },
    {
      "cell_type": "code",
      "metadata": {
        "id": "E0WGIzhyZvyz",
        "colab_type": "code",
        "colab": {}
      },
      "source": [
        "print(\"Desviación estándar de Toy Story %.2f\" % notas_toy_story.nota.std())\n",
        "print(\"Desviación estándar de Jumanji %.2f\" % notas_jumanji.nota.std())"
      ],
      "execution_count": 0,
      "outputs": []
    },
    {
      "cell_type": "code",
      "metadata": {
        "id": "PlUvzh9Gavez",
        "colab_type": "code",
        "colab": {}
      },
      "source": [
        "print(pelicula1.mean(),pelicula2.mean())\n",
        "print(np.median(pelicula1),np.median(pelicula2))\n",
        "print(np.std(pelicula1),np.std(pelicula2))"
      ],
      "execution_count": 0,
      "outputs": []
    }
  ]
}